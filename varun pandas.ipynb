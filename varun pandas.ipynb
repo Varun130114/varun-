{
 "cells": [
  {
   "cell_type": "code",
   "execution_count": 7,
   "id": "4395edba-c84b-438d-8ed4-1083ac896017",
   "metadata": {},
   "outputs": [
    {
     "name": "stdout",
     "output_type": "stream",
     "text": [
      "Empty DataFrame\n",
      "Columns: []\n",
      "Index: []\n"
     ]
    }
   ],
   "source": [
    "import pandas as pd\n",
    "df=pd.DataFrame()\n",
    "print(df)"
   ]
  },
  {
   "cell_type": "markdown",
   "id": "9630c772-afac-4f5e-b455-ace9ce76554e",
   "metadata": {},
   "source": [
    "import pandas as pd\n",
    "emp=pd.Series(['dharshan','sudeep','siva','yash','keerthana'])\n",
    "id=pd.Series([80,90,28,57,49])\n",
    "frame={'Emp':emp,'Id':id}\n",
    "result=pd.DataFrame(frame)\n",
    "print(\"\\n series to DataFrame \\n\")\n",
    "print(result)\n"
   ]
  },
  {
   "cell_type": "code",
   "execution_count": 11,
   "id": "172cb91e-f2df-47e8-8849-bc5123d791f9",
   "metadata": {},
   "outputs": [
    {
     "name": "stdout",
     "output_type": "stream",
     "text": [
      "\n",
      "Extracting one column\n",
      "\n",
      "0     dharshan\n",
      "1       sudeep\n",
      "2         siva\n",
      "3         yash\n",
      "4    keerthana\n",
      "Name: Emp, dtype: object\n"
     ]
    }
   ],
   "source": [
    "print(\"\\nExtracting one column\\n\")\n",
    "print(result['Emp'])"
   ]
  },
  {
   "cell_type": "code",
   "execution_count": 13,
   "id": "e9162d50-8619-4953-9620-f30907f7d37e",
   "metadata": {},
   "outputs": [
    {
     "name": "stdout",
     "output_type": "stream",
     "text": [
      "/n adding new column:\n",
      "\n",
      "         Emp  Id  ID  Age\n",
      "0   dharshan  80  80   19\n",
      "1     sudeep  90  90   90\n",
      "2       siva  28  28   34\n",
      "3       yash  57  56   67\n",
      "4  keerthana  49  89   20\n"
     ]
    }
   ],
   "source": [
    "print(\"/n adding new column:\\n\")\n",
    "result['ID']=pd.Series([80,90,28,56,89])\n",
    "result['Age']=pd.Series([19,90,34,67,20])\n",
    "print(result)"
   ]
  },
  {
   "cell_type": "code",
   "execution_count": 15,
   "id": "4358fe58-50d5-4a5b-9e51-d93f2cb77171",
   "metadata": {},
   "outputs": [
    {
     "name": "stdout",
     "output_type": "stream",
     "text": [
      "\n",
      " Deleting new column:\n",
      "\n",
      "         Emp  Id  ID\n",
      "0   dharshan  80  80\n",
      "1     sudeep  90  90\n",
      "2       siva  28  28\n",
      "3       yash  57  56\n",
      "4  keerthana  49  89\n"
     ]
    }
   ],
   "source": [
    "print(\"\\n Deleting new column:\\n\")\n",
    "del result['Age']\n",
    "print(result)"
   ]
  },
  {
   "cell_type": "code",
   "execution_count": 17,
   "id": "b2398077-6da2-435c-b430-b2b0b46995a6",
   "metadata": {},
   "outputs": [
    {
     "name": "stdout",
     "output_type": "stream",
     "text": [
      "\n",
      " extracting the second row:\n",
      "\n",
      "Emp    sudeep\n",
      "Id         90\n",
      "ID         90\n",
      "Name: 1, dtype: object\n"
     ]
    }
   ],
   "source": [
    "print(\"\\n extracting the second row:\\n\")\n",
    "print(result.loc[1])"
   ]
  },
  {
   "cell_type": "code",
   "execution_count": 19,
   "id": "de6fe138-8b4e-4fc7-869e-1e620bbb794d",
   "metadata": {},
   "outputs": [
    {
     "name": "stdout",
     "output_type": "stream",
     "text": [
      "Slice rows:\n",
      "       Emp  Id  ID\n",
      "1  sudeep  90  90\n",
      "2    siva  28  28\n",
      "3    yash  57  56\n"
     ]
    }
   ],
   "source": [
    "print(\"Slice rows:\\n\",result[1:4])"
   ]
  },
  {
   "cell_type": "code",
   "execution_count": 23,
   "id": "c9da0366-f3b7-4b8b-91ee-817687d0b7f0",
   "metadata": {},
   "outputs": [
    {
     "name": "stdout",
     "output_type": "stream",
     "text": [
      "\n",
      "deleting particular row:\n",
      "          Emp  Id  ID\n",
      "0   dharshan  80  80\n",
      "1     sudeep  90  90\n",
      "3       yash  57  56\n",
      "4  keerthana  49  89\n"
     ]
    }
   ],
   "source": [
    "print(\"\\ndeleting particular row:\\n\",result.drop(2))"
   ]
  }
 ],
 "metadata": {
  "kernelspec": {
   "display_name": "Python [conda env:base] *",
   "language": "python",
   "name": "conda-base-py"
  },
  "language_info": {
   "codemirror_mode": {
    "name": "ipython",
    "version": 3
   },
   "file_extension": ".py",
   "mimetype": "text/x-python",
   "name": "python",
   "nbconvert_exporter": "python",
   "pygments_lexer": "ipython3",
   "version": "3.12.7"
  }
 },
 "nbformat": 4,
 "nbformat_minor": 5
}
