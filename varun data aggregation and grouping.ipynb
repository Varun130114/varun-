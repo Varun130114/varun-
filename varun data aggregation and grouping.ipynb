{
 "cells": [
  {
   "cell_type": "code",
   "execution_count": 30,
   "id": "89b0cca2-6647-453d-a59c-4d0c1063d6ec",
   "metadata": {},
   "outputs": [
    {
     "name": "stdout",
     "output_type": "stream",
     "text": [
      "\n",
      "DataFrame:\n",
      "       Name Category  Value  score\n",
      "0    alice        A      4     79\n",
      "1      bob        B      1     83\n",
      "2  charlie        C      4     65\n",
      "3    alice        A      3     99\n",
      "4      bob        B      4     80\n",
      "5  charlie        C      3     86\n",
      "\n",
      " groupby and aggregate with one column :\n",
      "       Name  Value\n",
      "0    alice      7\n",
      "1      bob      5\n",
      "2  charlie      7\n"
     ]
    }
   ],
   "source": [
    "import numpy as np\n",
    "import pandas as pd\n",
    "df=pd.DataFrame({'Name':['alice','bob','charlie','alice','bob','charlie'],\n",
    "                'Category':['A','B','C','A','B','C'],\n",
    "                 'Value':np.random.randint(1,5,size=6),\n",
    "                'score':np.random.randint(60,100,size=6)})\n",
    "print(\"\\nDataFrame:\\n\",df)\n",
    "df1=df.groupby(('Name'),as_index=False)['Value'].sum()\n",
    "print(\"\\n groupby and aggregate with one column :\\n\",df1)"
   ]
  },
  {
   "cell_type": "code",
   "execution_count": 50,
   "id": "216c0cb8-d518-4745-99ee-9cf3257e2f3d",
   "metadata": {},
   "outputs": [
    {
     "name": "stdout",
     "output_type": "stream",
     "text": [
      "\n",
      " group and aggregate with two columns sum :\n",
      "       Name  Value  score\n",
      "0    alice      7    178\n",
      "1      bob      5    163\n",
      "2  charlie      7    151\n"
     ]
    }
   ],
   "source": [
    "df2=df.groupby(('Name'),as_index=False)[['Value','score']].sum()\n",
    "print(\"\\n group and aggregate with two columns sum :\\n\",df2)"
   ]
  },
  {
   "cell_type": "code",
   "execution_count": 52,
   "id": "89f8d263-6361-4a09-a95e-fe3855b5e4ce",
   "metadata": {},
   "outputs": [
    {
     "name": "stdout",
     "output_type": "stream",
     "text": [
      "\n",
      "groupby and aggregate with one column :\n",
      "       Name  Value\n",
      "0    alice      7\n",
      "1      bob      5\n",
      "2  charlie      7\n"
     ]
    }
   ],
   "source": [
    "df3=df.groupby(('Name'),as_index=False)['Value'].agg('sum')\n",
    "print(\"\\ngroupby and aggregate with one column :\\n\",df3)"
   ]
  },
  {
   "cell_type": "code",
   "execution_count": 60,
   "id": "f87e2de4-742e-4318-8832-69d5bdcfe14a",
   "metadata": {},
   "outputs": [
    {
     "name": "stdout",
     "output_type": "stream",
     "text": [
      "\n",
      " groupby name and multiple aggregation :\n",
      "         Value              score      \n",
      "          sum mean min max   sum  mean\n",
      "Name                                  \n",
      "alice       7  3.5   3   4   178  89.0\n",
      "bob         5  2.5   1   4   163  81.5\n",
      "charlie     7  3.5   3   4   151  75.5\n"
     ]
    }
   ],
   "source": [
    "df4=df.groupby(('Name')).agg({'Value':['sum','mean','min','max'],\n",
    "                             'score':['sum','mean']})\n",
    "print(\"\\n groupby name and multiple aggregation :\\n\",df4)"
   ]
  },
  {
   "cell_type": "code",
   "execution_count": 64,
   "id": "96d936cf-ac96-41d0-a60d-213fc34063b9",
   "metadata": {},
   "outputs": [
    {
     "name": "stdout",
     "output_type": "stream",
     "text": [
      "\n",
      " group and count :\n",
      "       Name  Value\n",
      "0    alice      2\n",
      "1      bob      2\n",
      "2  charlie      2\n"
     ]
    }
   ],
   "source": [
    "df5=df.groupby(('Name'),as_index=False)['Value'].count()\n",
    "print(\"\\n group and count :\\n\",df5)"
   ]
  },
  {
   "cell_type": "code",
   "execution_count": 66,
   "id": "6d53f5be-157e-4030-802f-11bbdf8d6269",
   "metadata": {},
   "outputs": [
    {
     "name": "stdout",
     "output_type": "stream",
     "text": [
      "\n",
      " group and count :\n",
      "          Category  Value  score\n",
      "Name                           \n",
      "alice           2      2      2\n",
      "bob             2      2      2\n",
      "charlie         2      2      2\n"
     ]
    }
   ],
   "source": [
    "df6=df.groupby(('Name')).count()\n",
    "print(\"\\n group and count :\\n\",df6)"
   ]
  },
  {
   "cell_type": "code",
   "execution_count": 72,
   "id": "477991f9-edb5-4e50-8ddd-cc4bc42c852a",
   "metadata": {},
   "outputs": [
    {
     "name": "stdout",
     "output_type": "stream",
     "text": [
      "\n",
      " group and display from first:\n",
      "       Name  Value\n",
      "0    alice      4\n",
      "1      bob      1\n",
      "2  charlie      4\n",
      "\n",
      " group and display from first:\n",
      "         Category  Value  score\n",
      "Name                          \n",
      "alice          A      4     79\n",
      "bob            B      1     83\n",
      "charlie        C      4     65\n"
     ]
    }
   ],
   "source": [
    "df7=df.groupby(('Name'),as_index=False)['Value'].first()\n",
    "print(\"\\n group and display from first:\\n\",df7)\n",
    "df8=df.groupby(('Name')).first()\n",
    "print(\"\\n group and display from first:\\n\",df8)"
   ]
  },
  {
   "cell_type": "code",
   "execution_count": 76,
   "id": "bb5ff739-de18-4328-9663-7aaeb4b0d1e7",
   "metadata": {},
   "outputs": [
    {
     "name": "stdout",
     "output_type": "stream",
     "text": [
      "\n",
      " group and display from last:\n",
      "       Name  Value\n",
      "0    alice      3\n",
      "1      bob      4\n",
      "2  charlie      3\n",
      "\n",
      " group and display from last:\n",
      "         Category  Value  score\n",
      "Name                          \n",
      "alice          A      3     99\n",
      "bob            B      4     80\n",
      "charlie        C      3     86\n"
     ]
    }
   ],
   "source": [
    "df9=df.groupby(('Name'),as_index=False)['Value'].last()\n",
    "print(\"\\n group and display from last:\\n\",df9)\n",
    "df10=df.groupby(('Name')).last()\n",
    "print(\"\\n group and display from last:\\n\",df10)"
   ]
  },
  {
   "cell_type": "code",
   "execution_count": 80,
   "id": "cae4fbe3-b75c-42f1-952e-cd95d05d11ec",
   "metadata": {},
   "outputs": [
    {
     "name": "stdout",
     "output_type": "stream",
     "text": [
      "\n",
      " group and display size:\n",
      "       Name  size\n",
      "0    alice     2\n",
      "1      bob     2\n",
      "2  charlie     2\n",
      "\n",
      " group and display size:\n",
      " Name\n",
      "alice      2\n",
      "bob        2\n",
      "charlie    2\n",
      "dtype: int64\n"
     ]
    }
   ],
   "source": [
    "df11=df.groupby(('Name'),as_index=False)['Value'].size()\n",
    "print(\"\\n group and display size-:\\n\",df11)\n",
    "df12=df.groupby(('Name')).size()\n",
    "print(\"\\n group and display size:\\n\",df12)"
   ]
  }
 ],
 "metadata": {
  "kernelspec": {
   "display_name": "Python [conda env:base] *",
   "language": "python",
   "name": "conda-base-py"
  },
  "language_info": {
   "codemirror_mode": {
    "name": "ipython",
    "version": 3
   },
   "file_extension": ".py",
   "mimetype": "text/x-python",
   "name": "python",
   "nbconvert_exporter": "python",
   "pygments_lexer": "ipython3",
   "version": "3.12.2"
  }
 },
 "nbformat": 4,
 "nbformat_minor": 5
}
