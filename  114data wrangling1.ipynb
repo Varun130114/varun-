{
 "cells": [
  {
   "cell_type": "code",
   "execution_count": 10,
   "id": "55ae4b9f-4f17-4aa5-9dca-c59998fbeb9d",
   "metadata": {},
   "outputs": [
    {
     "name": "stdout",
     "output_type": "stream",
     "text": [
      "Df1:\n",
      "    name  age\n",
      "0   Ram   20\n",
      "1   Raj   21\n",
      "2  Ravi   22\n",
      "Df2:\n",
      "    qualified\n",
      "0       True\n",
      "1      False\n",
      "2      False\n",
      "joining:\n",
      "    name  age  qualified\n",
      "0   Ram   20       True\n",
      "1   Raj   21      False\n",
      "2  Ravi   22      False\n"
     ]
    }
   ],
   "source": [
    "import pandas  as pd\n",
    "d1={\"name\":[\"Ram\",\"Raj\",\"Ravi\"],\"age\":[20,21,22]}\n",
    "d2={\"qualified\":[True,False,False]}\n",
    "df1=pd.DataFrame(d1)\n",
    "print(\"Df1:\\n\",df1)\n",
    "df2=pd.DataFrame(d2)\n",
    "print(\"Df2:\\n\",df2)\n",
    "newdf=df1.join(df2)\n",
    "print(\"joining:\\n\",newdf)"
   ]
  },
  {
   "cell_type": "code",
   "execution_count": 34,
   "id": "a5454a89-0a70-4c85-b2db-51afa35e0aa4",
   "metadata": {},
   "outputs": [
    {
     "name": "stdout",
     "output_type": "stream",
     "text": [
      "    0   1\n",
      "0  11  12\n",
      "1   3   4\n",
      "   0  1\n",
      "0  5  6\n",
      "1  7  8\n",
      "    0   1\n",
      "0  11  12\n",
      "1   3   4\n"
     ]
    }
   ],
   "source": [
    "import pandas as pd\n",
    "df1=pd.DataFrame([[11,12],[3,4]])\n",
    "df2=pd.DataFrame([[5,6],[7,8]])\n",
    "def myfunc(a,b):\n",
    "    if(a.sum()>b.sum()):\n",
    "        return a\n",
    "    else:\n",
    "        return b\n",
    "print(df1)\n",
    "print(df2)\n",
    "print(df1.combine(df2,myfunc))"
   ]
  },
  {
   "cell_type": "code",
   "execution_count": 3,
   "id": "22dffe4a-434c-4605-88fb-a41d3d6abc44",
   "metadata": {},
   "outputs": [
    {
     "name": "stdout",
     "output_type": "stream",
     "text": [
      "Df1:\n",
      "   name  age\n",
      "0  sai   20\n",
      "1  sub   21\n",
      "2  poc   22\n",
      "Df2:\n",
      "       name  age\n",
      "0     yuvi   20\n",
      "1  nithika   21\n",
      "2   sanjay   22\n",
      "Left Merge :\n",
      "     name_x  age name_y\n",
      "0     yuvi   20    sai\n",
      "1  nithika   21    sub\n",
      "2   sanjay   22    poc\n",
      "Right Merge :\n",
      "   name_x  age   name_y\n",
      "0    sai   20     yuvi\n",
      "1    sub   21  nithika\n",
      "2    poc   22   sanjay\n"
     ]
    }
   ],
   "source": [
    "import pandas as pd\n",
    "df1={\"name\":['sai','sub','poc'],\"age\":[20,21,22]}\n",
    "df2={\"name\":[\"yuvi\",\"nithika\",\"sanjay\"],\"age\":[20,21,22]}\n",
    "d1=pd.DataFrame(df1)\n",
    "print(\"Df1:\\n\",d1)\n",
    "d2=pd.DataFrame(df2)\n",
    "print(\"Df2:\\n\",d2)\n",
    "newdf1=d2.merge(d1,on=\"age\")\n",
    "newdf2=d1.merge(d2,on=\"age\")\n",
    "print(\"Left Merge :\\n\",newdf1)\n",
    "print(\"Right Merge :\\n\",newdf2)"
   ]
  },
  {
   "cell_type": "code",
   "execution_count": 5,
   "id": "e4e350e7-4fc2-4d0d-b595-11ae01173848",
   "metadata": {},
   "outputs": [
    {
     "name": "stdout",
     "output_type": "stream",
     "text": [
      "  team  points  assist  rebounds\n",
      "0    A      90      12        50\n",
      "1    B      80      34        60\n",
      "2    C      70      23        65\n",
      "3    D      60      29        70\n",
      "\n",
      " Reshape:\n",
      "    team  variable  value\n",
      "0     A    points     90\n",
      "1     B    points     80\n",
      "2     C    points     70\n",
      "3     D    points     60\n",
      "4     A    assist     12\n",
      "5     B    assist     34\n",
      "6     C    assist     23\n",
      "7     D    assist     29\n",
      "8     A  rebounds     50\n",
      "9     B  rebounds     60\n",
      "10    C  rebounds     65\n",
      "11    D  rebounds     70\n"
     ]
    }
   ],
   "source": [
    "df=pd.DataFrame({'team':['A','B','C','D'],\n",
    "                 'points':[90,80,70,60],\n",
    "                 'assist':[12,34,23,29],\n",
    "                 'rebounds':[50,60,65,70]})\n",
    "print(df)\n",
    "df=pd.melt(df,id_vars='team',\n",
    "           value_vars=['points','assist','rebounds'])\n",
    "print(\"\\n Reshape:\\n\",df)"
   ]
  }
 ],
 "metadata": {
  "kernelspec": {
   "display_name": "Python [conda env:eee]",
   "language": "python",
   "name": "conda-env-eee-py"
  },
  "language_info": {
   "codemirror_mode": {
    "name": "ipython",
    "version": 3
   },
   "file_extension": ".py",
   "mimetype": "text/x-python",
   "name": "python",
   "nbconvert_exporter": "python",
   "pygments_lexer": "ipython3",
   "version": "3.12.8"
  }
 },
 "nbformat": 4,
 "nbformat_minor": 5
}
