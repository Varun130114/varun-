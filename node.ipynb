{
 "cells": [
  {
   "cell_type": "code",
   "execution_count": 22,
   "id": "4f0e38f4-86a8-4727-83f3-7aeccd22828e",
   "metadata": {},
   "outputs": [
    {
     "name": "stdout",
     "output_type": "stream",
     "text": [
      "        name genders  start date login time  salary   bonus %  \\\n",
      "0     thomas    male   4|31|2020   11:43 AM    10000     7.25   \n",
      "1     tetsla    male   7|10|2018    4:00 AM    10000     5.89   \n",
      "2        Joe    male   4|31|2018    3:00 AM   100000     5.98   \n",
      "3      Diane    male   5|30|2021   12:50 AM    85000     8.56   \n",
      "4   Benjamin    male   4|31|2020   12:43 AM    47000     9.96   \n",
      "5    Patrick    male    2|3|2020    8:00 AM    35000     4.63   \n",
      "6      Nancy  female   4|31|2029    2:00 AM    98000     4.78   \n",
      "7      Carol    male    4|7|2001    5:00 PM    87000     8.43   \n",
      "8    Frances    male   6|10|2010    4:00 PM    45000     8.17   \n",
      "9      Diana  female   9|29|2030   10:00 AM    25000     2.55   \n",
      "10     Ralph    male   4|31|2020    4:00 PM    75000     6.63   \n",
      "11      Jack    male    2|3|2020   11:43 AM    90000     7.25   \n",
      "12   Melissa  female   9|31|2022   11:43 AM    50000     9.83   \n",
      "13     Wayne    male    1|1|2020   11:43 AM    40000     9.25   \n",
      "14    Cheryl    male   4|31|2006   11:43 AM   300000     6.89   \n",
      "15     Paula    male  10|30|2005    3:00 PM   200000     5.16   \n",
      "16    Joshua    male   6|31|2017   12:00 PM    10000     6.32   \n",
      "17   theresa  female   4|31|2020    2:23 PM    30000     3.25   \n",
      "18     Julia  female   4|31|2020    1:07 PM    80000     4.63   \n",
      "\n",
      "    senior management              team  \n",
      "0                True           finance  \n",
      "1                True            manger  \n",
      "2               False                HR  \n",
      "3                True         team lead  \n",
      "4               False           finance  \n",
      "5                True  project manageer  \n",
      "6                True           finance  \n",
      "7               False                HR  \n",
      "8                True         team lead  \n",
      "9               False            manger  \n",
      "10               True           finance  \n",
      "11              False  project manageer  \n",
      "12               True           finance  \n",
      "13              False         team lead  \n",
      "14               True  project manageer  \n",
      "15              False           finance  \n",
      "16               True  project manageer  \n",
      "17              False                HR  \n",
      "18               True           finance  \n"
     ]
    }
   ],
   "source": [
    "import pandas as pd\n",
    "d=pd.read_csv(\"/Users/student/Downloads/rec file.csv\")\n",
    "print(d)"
   ]
  },
  {
   "cell_type": "code",
   "execution_count": 24,
   "id": "53901dcc-321d-4fc4-86b6-2375fd39c6ac",
   "metadata": {},
   "outputs": [
    {
     "name": "stdout",
     "output_type": "stream",
     "text": [
      "    Emp ID Name Prefix First Name Middle Initial Last Name Gender  \\\n",
      "0   677509        Drs.       Lois              H    Walker      F   \n",
      "1   940761         Ms.     Brenda              S  Robinson      F   \n",
      "2   428945         Dr.        Joe              W  Robinson      M   \n",
      "3   408351        Drs.      Diane              I     Evans      F   \n",
      "4   193819         Mr.   Benjamin              R   Russell      M   \n",
      "..     ...         ...        ...            ...       ...    ...   \n",
      "95  639892         Mr.       Jose              K      Hill      M   \n",
      "96  704709         Dr.     Harold              Z    Nelson      M   \n",
      "97  461593         Ms.     Nicole              O      Ward      F   \n",
      "98  392491        Mrs.    Theresa              R    Murphy      F   \n",
      "99  495141        Drs.      Tammy              B     Young      F   \n",
      "\n",
      "                          E Mail     Father's Name       Mother's Name  \\\n",
      "0        lois.walker@hotmail.com     Donald Walker        Helen Walker   \n",
      "1      brenda.robinson@gmail.com  Raymond Robinson       Judy Robinson   \n",
      "2         joe.robinson@gmail.com    Scott Robinson  Stephanie Robinson   \n",
      "3          diane.evans@yahoo.com       Jason Evans      Michelle Evans   \n",
      "4   benjamin.russell@charter.net   Gregory Russell   Elizabeth Russell   \n",
      "..                           ...               ...                 ...   \n",
      "95         jose.hill@hotmail.com       Carlos Hill           Anna Hill   \n",
      "96       harold.nelson@gmail.com    Richard Nelson       Pamela Nelson   \n",
      "97         nicole.ward@yahoo.com        Ralph Ward          Julia Ward   \n",
      "98      theresa.murphy@gmail.com     George Murphy   Jacqueline Murphy   \n",
      "99       tammy.young@comcast.net      Andrew Young        Brenda Young   \n",
      "\n",
      "   Mother's Maiden Name  Salary  \n",
      "0                 Lewis  168251  \n",
      "1                 Perry   51063  \n",
      "2                Taylor   50155  \n",
      "3                 Allen  180294  \n",
      "4                Nelson  117642  \n",
      "..                  ...     ...  \n",
      "95                Hayes  129774  \n",
      "96                Smith  156194  \n",
      "97                  Lee   95673  \n",
      "98             Peterson   51015  \n",
      "99             Robinson   93650  \n",
      "\n",
      "[100 rows x 11 columns]\n"
     ]
    }
   ],
   "source": [
    "import pandas as pd\n",
    "d=pd.read_csv(\"/Users/student/Downloads/employees details (1).csv\")\n",
    "print(d)"
   ]
  },
  {
   "cell_type": "code",
   "execution_count": 26,
   "id": "f84a76fe-502d-40d1-b717-5ae854ac2f7c",
   "metadata": {},
   "outputs": [
    {
     "name": "stdout",
     "output_type": "stream",
     "text": [
      "columns Index(['Emp ID', 'Name Prefix', 'First Name', 'Middle Initial', 'Last Name',\n",
      "       'Gender', 'E Mail', 'Father's Name', 'Mother's Name',\n",
      "       'Mother's Maiden Name', 'Salary'],\n",
      "      dtype='object')\n",
      "(100, 11)\n"
     ]
    }
   ],
   "source": [
    "df=pd.DataFrame(d)\n",
    "print(\"columns\",df.columns)\n",
    "print(df.shape)\n"
   ]
  },
  {
   "cell_type": "code",
   "execution_count": 40,
   "id": "6f58a6dd-dfed-4974-bc9b-0d6a0c61a8ec",
   "metadata": {},
   "outputs": [
    {
     "name": "stdout",
     "output_type": "stream",
     "text": [
      "Salary 0     168251\n",
      "1      51063\n",
      "2      50155\n",
      "3     180294\n",
      "4     117642\n",
      "       ...  \n",
      "95    129774\n",
      "96    156194\n",
      "97     95673\n",
      "98     51015\n",
      "99     93650\n",
      "Name: Salary, Length: 100, dtype: int64\n"
     ]
    }
   ],
   "source": [
    "print(\"Salary\",df.Salary)"
   ]
  },
  {
   "cell_type": "code",
   "execution_count": 42,
   "id": "06a88a16-e8ce-4b4f-b6b8-b5c289a4e3fe",
   "metadata": {},
   "outputs": [
    {
     "name": "stdout",
     "output_type": "stream",
     "text": [
      "   Emp ID Name Prefix First Name Middle Initial Last Name Gender  \\\n",
      "5  499687         Mr.    Patrick              F    Bailey      M   \n",
      "6  539712         Ms.      Nancy              T     Baker      F   \n",
      "7  380086        Mrs.      Carol              V    Murphy      F   \n",
      "8  477616        Hon.    Frances              B     Young      F   \n",
      "\n",
      "                    E Mail  Father's Name     Mother's Name  \\\n",
      "5   patrick.bailey@aol.com   Ralph Bailey      Laura Bailey   \n",
      "6       nancy.baker@bp.com    Scott Baker        Judy Baker   \n",
      "7   carol.murphy@gmail.com  Eugene Murphy  Katherine Murphy   \n",
      "8  frances.young@gmail.com     Fred Young     Lillian Young   \n",
      "\n",
      "  Mother's Maiden Name  Salary  \n",
      "5            Henderson   72305  \n",
      "6               Thomas   98189  \n",
      "7             Peterson   60918  \n",
      "8                 Diaz  121587  \n"
     ]
    }
   ],
   "source": [
    "print(df[5:9])"
   ]
  },
  {
   "cell_type": "code",
   "execution_count": 44,
   "id": "0c81e802-8d55-43c3-983b-59ad5fa83e31",
   "metadata": {},
   "outputs": [
    {
     "name": "stdout",
     "output_type": "stream",
     "text": [
      "particular person detial: Emp ID                                  231469\n",
      "Name Prefix                                Mr.\n",
      "First Name                               Ralph\n",
      "Middle Initial                               L\n",
      "Last Name                               Flores\n",
      "Gender                                       M\n",
      "E Mail                  ralph.flores@yahoo.com\n",
      "Father's Name                     Terry Flores\n",
      "Mother's Name                  Michelle Flores\n",
      "Mother's Maiden Name                     Moore\n",
      "Salary                                  118457\n",
      "Name: 10, dtype: object\n"
     ]
    }
   ],
   "source": [
    "print(\"particular person detial:\",df.loc[10])"
   ]
  },
  {
   "cell_type": "code",
   "execution_count": 60,
   "id": "289452fd-50a3-4940-b4f0-b21ed890523a",
   "metadata": {},
   "outputs": [
    {
     "name": "stdout",
     "output_type": "stream",
     "text": [
      "    Emp ID Name Prefix First Name Middle Initial Last Name Gender  \\\n",
      "19  622406         Mr.     Thomas              Q     Lewis      M   \n",
      "\n",
      "                    E Mail Father's Name Mother's Name Mother's Maiden Name  \\\n",
      "19  thomas.lewis@gmail.com    Ryan Lewis    Lois Lewis                Price   \n",
      "\n",
      "    Salary  \n",
      "19   73862  \n"
     ]
    }
   ],
   "source": [
    "print(d.loc[d['Salary']==73862])"
   ]
  },
  {
   "cell_type": "code",
   "execution_count": 62,
   "id": "7a075655-95c8-46b7-96e7-d36fcf34d1cd",
   "metadata": {},
   "outputs": [
    {
     "name": "stdout",
     "output_type": "stream",
     "text": [
      "0     168.419419\n",
      "1      51.114114\n",
      "2      50.205205\n",
      "3     180.474474\n",
      "4     117.759760\n",
      "         ...    \n",
      "95    129.903904\n",
      "96    156.350350\n",
      "97     95.768769\n",
      "98     51.066066\n",
      "99     93.743744\n",
      "Name: Salary, Length: 100, dtype: float64\n"
     ]
    }
   ],
   "source": [
    "df=d['Salary']/999\n",
    "print(df)"
   ]
  },
  {
   "cell_type": "code",
   "execution_count": null,
   "id": "c1460805-7309-44fe-b317-2373fb6180a4",
   "metadata": {},
   "outputs": [],
   "source": []
  }
 ],
 "metadata": {
  "kernelspec": {
   "display_name": "Python [conda env:base] *",
   "language": "python",
   "name": "conda-base-py"
  },
  "language_info": {
   "codemirror_mode": {
    "name": "ipython",
    "version": 3
   },
   "file_extension": ".py",
   "mimetype": "text/x-python",
   "name": "python",
   "nbconvert_exporter": "python",
   "pygments_lexer": "ipython3",
   "version": "3.12.7"
  }
 },
 "nbformat": 4,
 "nbformat_minor": 5
}
