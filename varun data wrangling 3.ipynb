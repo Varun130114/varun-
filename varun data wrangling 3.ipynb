{
 "cells": [
  {
   "cell_type": "code",
   "execution_count": 13,
   "id": "d35823df-ac8a-4256-9636-533f446e8704",
   "metadata": {},
   "outputs": [
    {
     "name": "stdout",
     "output_type": "stream",
     "text": [
      "\n",
      " Original DataFrame:\n",
      "        Brand  year  Sold\n",
      "0     Maruti  2010     6\n",
      "1     Maruti  2011     7\n",
      "2     Maruti  2009     9\n",
      "3     Maruti  2013     8\n",
      "4    Hyundai  2010     3\n",
      "5    Hyundai  2011     5\n",
      "6     Toyato  2010     2\n",
      "7   Mahindra  2013     8\n",
      "8   Mahindra  2010     7\n",
      "9       Ford  2010     2\n",
      "10    Toyato  2011     4\n",
      "11      Ford  2011     2\n",
      "\n",
      " Group by year :\n",
      "       Brand  year  Sold\n",
      "0    Maruti  2010     6\n",
      "4   Hyundai  2010     3\n",
      "6    Toyato  2010     2\n",
      "8  Mahindra  2010     7\n",
      "9      Ford  2010     2\n"
     ]
    }
   ],
   "source": [
    "import pandas as pd\n",
    "car_selling_data={'Brand':['Maruti','Maruti','Maruti','Maruti','Hyundai','Hyundai',\n",
    "                           'Toyato','Mahindra','Mahindra','Ford','Toyato','Ford'],\n",
    "                 'year':[2010,2011,2009,2013,2010,2011,2010,2013,2010,2010,2011,2011],\n",
    "                 'Sold' :[6,7,9,8,3,5,2,8,7,2,4,2]}\n",
    "df=pd.DataFrame(car_selling_data)\n",
    "print(\"\\n Original DataFrame:\\n\",df)\n",
    "grouped=df.groupby('year')\n",
    "print(\"\\n Group by year :\\n\",grouped.get_group(2010))"
   ]
  },
  {
   "cell_type": "code",
   "execution_count": 19,
   "id": "10d7ed07-19fd-4e04-bc00-0a5eaaa1d4d8",
   "metadata": {},
   "outputs": [
    {
     "name": "stdout",
     "output_type": "stream",
     "text": [
      "\n",
      "Original DataFrame:\n",
      "     Name  Roll no             Email\n",
      "0    sai       20    xxxx@gmail.com\n",
      "1    raj       25  xxxxxx@gmail.com\n",
      "2   yuva       20  xxxxxx@gmail.com\n",
      "3    ram       32      xx@gmail.com\n",
      "4    sam       69    xxxx@gmail.com\n",
      "5  sanju       32   xxxxx@gmail.com\n",
      "6   ravi       30   xxxxx@gmail.com\n",
      "7  shree       70   xxxxx@gmail.com\n",
      "8   niki       44   xxxxx@gmail.com\n",
      "9  rahul       36  xxxxxx@gmail.com\n",
      "\n",
      "Removed duplicated rows:\n",
      "     Name  Roll no             Email\n",
      "0    sai       20    xxxx@gmail.com\n",
      "1    raj       25  xxxxxx@gmail.com\n",
      "3    ram       32      xx@gmail.com\n",
      "4    sam       69    xxxx@gmail.com\n",
      "6   ravi       30   xxxxx@gmail.com\n",
      "7  shree       70   xxxxx@gmail.com\n",
      "8   niki       44   xxxxx@gmail.com\n",
      "9  rahul       36  xxxxxx@gmail.com\n"
     ]
    }
   ],
   "source": [
    "student_Data={'Name':['sai','raj','yuva','ram','sam','sanju','ravi','shree','niki','rahul'],\n",
    "             'Roll no':[20,25,20,32,69,32,30,70,44,36],\n",
    "             'Email': ['xxxx@gmail.com', 'xxxxxx@gmail.com','xxxxxx@gmail.com','xx@gmail.com',\n",
    "                      'xxxx@gmail.com', 'xxxxx@gmail.com','xxxxx@gmail.com', 'xxxxx@gmail.com',\n",
    "                      'xxxxx@gmail.com', 'xxxxxx@gmail.com']}\n",
    "df=pd.DataFrame(student_Data)\n",
    "print(\"\\nOriginal DataFrame:\\n\",df)\n",
    "non_duplicate = df[~df.duplicated('Roll no')]\n",
    "print(\"\\nRemoved duplicated rows:\\n\",non_duplicate)"
   ]
  },
  {
   "cell_type": "code",
   "execution_count": 21,
   "id": "ae6872ce-8401-4497-b5c5-87d8e43e5fe6",
   "metadata": {},
   "outputs": [
    {
     "name": "stdout",
     "output_type": "stream",
     "text": [
      "\n",
      "Original DataFrame 1:\n",
      "     ID     NAME BRANCH\n",
      "0  101     Arun   Mech\n",
      "1  102  Praveen   Mech\n",
      "2  103   Harish    CSE\n",
      "3  104    Pooja    CSE\n",
      "4  105    Rahul    CSE\n",
      "5  106   Naresh    EEE\n",
      "6  107  Saurabh    EEE\n",
      "7  108    Anush    ECE\n",
      "8  109   Dinesh    ECE\n",
      "9  110    Mohit     IT\n",
      "\n",
      "Original DataFrame:\n",
      "     ID PENDING\n",
      "0  101    5000\n",
      "1  102     250\n",
      "2  103     NIL\n",
      "3  104    9000\n",
      "4  105   15000\n",
      "5  106     NIL\n",
      "6  107    4500\n",
      "7  108    1800\n",
      "8  109     250\n",
      "9  110     NIL\n",
      "\n",
      "Merged Dataframe\n",
      "     ID     NAME BRANCH PENDING\n",
      "0  101     Arun   Mech    5000\n",
      "1  102  Praveen   Mech     250\n",
      "2  103   Harish    CSE     NIL\n",
      "3  104    Pooja    CSE    9000\n",
      "4  105    Rahul    CSE   15000\n",
      "5  106   Naresh    EEE     NIL\n",
      "6  107  Saurabh    EEE    4500\n",
      "7  108    Anush    ECE    1800\n",
      "8  109   Dinesh    ECE     250\n",
      "9  110    Mohit     IT     NIL\n"
     ]
    }
   ],
   "source": [
    "details=pd.DataFrame({'ID':[101, 102, 103, 104, 105, 106, 107, 108, 109, 110],\n",
    "'NAME':['Arun', 'Praveen', 'Harish','Pooja', 'Rahul', 'Naresh','Saurabh','Anush','Dinesh',\n",
    "'Mohit'],'BRANCH':['Mech', 'Mech', 'CSE', 'CSE', 'CSE', 'EEE','EEE', 'ECE', 'ECE', 'IT']})\n",
    "print(\"\\nOriginal DataFrame 1:\\n\", details)\n",
    "fees_status=pd.DataFrame ({'ID': [101, 102, 103, 104, 105, 106, 107, 108, 109, 110],\n",
    "'PENDING': ['5000', '250', 'NIL', '9000', '15000', 'NIL', '4500', '1800', '250', 'NIL']})\n",
    "print(\"\\nOriginal DataFrame:\\n\", fees_status)\n",
    "print(\"\\nMerged Dataframe\\n\",pd.merge(details,fees_status,on='ID'))"
   ]
  },
  {
   "cell_type": "code",
   "execution_count": 23,
   "id": "acab72ef-3afb-4d0f-8c43-94b8b97cdf81",
   "metadata": {},
   "outputs": [
    {
     "name": "stdout",
     "output_type": "stream",
     "text": [
      "\n",
      "Original DataFrame 1:\n",
      "       Name subject_id  Marks_scored\n",
      "1      Sai       sub1            98\n",
      "2      Sub       sub2            95\n",
      "3      Poo       sub4            96\n",
      "4  Yuvasri       sub6            92\n",
      "5  Rithika       sub5            88\n",
      "\n",
      "Original DataFrame 2:\n",
      "           Name subject_id  Marks_scored\n",
      "1       Sanjay       sub2            86\n",
      "2  Sangamithra       sub4            95\n",
      "3      Rubasri       sub3            87\n",
      "4       Nikesh       sub6            99\n",
      "5     Somanath       sub5            91\n",
      "          Name subject_id  Marks_scored\n",
      "1          Sai       sub1            98\n",
      "2          Sub       sub2            95\n",
      "3          Poo       sub4            96\n",
      "4      Yuvasri       sub6            92\n",
      "5      Rithika       sub5            88\n",
      "1       Sanjay       sub2            86\n",
      "2  Sangamithra       sub4            95\n",
      "3      Rubasri       sub3            87\n",
      "4       Nikesh       sub6            99\n",
      "5     Somanath       sub5            91\n"
     ]
    }
   ],
   "source": [
    "one = pd.DataFrame({\n",
    "'Name':['Sai','Sub','Poo','Yuvasri','Rithika'],\n",
    "'subject_id':['sub1','sub2','sub4','sub6','sub5'],\n",
    "'Marks_scored':[98,95,96,92,88]},\n",
    "index=[1,2,3,4,5])\n",
    "two=pd.DataFrame({\n",
    "'Name':['Sanjay','Sangamithra','Rubasri','Nikesh','Somanath'],\n",
    "'subject_id':['sub2','sub4','sub3','sub6','sub5'],\n",
    "'Marks_scored':[86,95,87,99,91]},\n",
    "index=[1,2,3,4,5])\n",
    "print(\"\\nOriginal DataFrame 1:\\n\",one)\n",
    "print(\"\\nOriginal DataFrame 2:\\n\",two)\n",
    "print(pd.concat([one,two]))"
   ]
  }
 ],
 "metadata": {
  "kernelspec": {
   "display_name": "Python [conda env:eee]",
   "language": "python",
   "name": "conda-env-eee-py"
  },
  "language_info": {
   "codemirror_mode": {
    "name": "ipython",
    "version": 3
   },
   "file_extension": ".py",
   "mimetype": "text/x-python",
   "name": "python",
   "nbconvert_exporter": "python",
   "pygments_lexer": "ipython3",
   "version": "3.12.8"
  }
 },
 "nbformat": 4,
 "nbformat_minor": 5
}
